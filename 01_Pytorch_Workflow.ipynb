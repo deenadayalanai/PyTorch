{
  "nbformat": 4,
  "nbformat_minor": 0,
  "metadata": {
    "colab": {
      "provenance": [],
      "authorship_tag": "ABX9TyPQxzRXi0BIYK9bEtnlX49f",
      "include_colab_link": true
    },
    "kernelspec": {
      "name": "python3",
      "display_name": "Python 3"
    },
    "language_info": {
      "name": "python"
    }
  },
  "cells": [
    {
      "cell_type": "markdown",
      "metadata": {
        "id": "view-in-github",
        "colab_type": "text"
      },
      "source": [
        "<a href=\"https://colab.research.google.com/github/deenadayalandms/PyTorch/blob/main/01_Pytorch_Workflow.ipynb\" target=\"_parent\"><img src=\"https://colab.research.google.com/assets/colab-badge.svg\" alt=\"Open In Colab\"/></a>"
      ]
    },
    {
      "cell_type": "code",
      "execution_count": 1,
      "metadata": {
        "id": "CfW1F9WCkCcL"
      },
      "outputs": [],
      "source": [
        "#hai"
      ]
    },
    {
      "cell_type": "code",
      "source": [
        "jj"
      ],
      "metadata": {
        "id": "_L2irFl5l1wX"
      },
      "execution_count": null,
      "outputs": []
    }
  ]
}