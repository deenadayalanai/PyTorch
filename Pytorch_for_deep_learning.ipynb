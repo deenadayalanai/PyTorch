{
  "nbformat": 4,
  "nbformat_minor": 0,
  "metadata": {
    "colab": {
      "provenance": [],
      "gpuType": "T4",
      "collapsed_sections": [
        "n511HonYkUGc",
        "0g0xXychkGry",
        "Z5AyVOrU3muH",
        "q0agRkox51aW",
        "D-dYAcRG88Q8",
        "MmFYI6Wv9Az5",
        "VR3X0FbjQL55",
        "tPqBlz7GSKWt",
        "2yLAckAf5kls",
        "vSFm0w2omgvw",
        "OvRJxvDC1YXx",
        "6lf8DTetHLNA",
        "gQs8A2Reivux",
        "ZM-A6Z_WtrJH"
      ],
      "authorship_tag": "ABX9TyM/J7DRYF03UvpTne60AWVB",
      "include_colab_link": true
    },
    "kernelspec": {
      "name": "python3",
      "display_name": "Python 3"
    },
    "language_info": {
      "name": "python"
    },
    "accelerator": "GPU"
  },
  "cells": [
    {
      "cell_type": "markdown",
      "metadata": {
        "id": "view-in-github",
        "colab_type": "text"
      },
      "source": [
        "<a href=\"https://colab.research.google.com/github/deenadayalandms/PyTorch/blob/main/Pytorch_for_deep_learning.ipynb\" target=\"_parent\"><img src=\"https://colab.research.google.com/assets/colab-badge.svg\" alt=\"Open In Colab\"/></a>"
      ]
    },
    {
      "cell_type": "markdown",
      "source": [
        "# **PyTorch Fundamentals**\n",
        "Tensors are a type of data structure used in linear algebra"
      ],
      "metadata": {
        "id": "bUmEo28q4VMH"
      }
    },
    {
      "cell_type": "code",
      "execution_count": null,
      "metadata": {
        "id": "_qe9snZCfW-T",
        "colab": {
          "base_uri": "https://localhost:8080/"
        },
        "outputId": "c2f16909-b4db-4869-d63b-e565f76983c4"
      },
      "outputs": [
        {
          "output_type": "stream",
          "name": "stdout",
          "text": [
            "2.0.1+cu118\n"
          ]
        }
      ],
      "source": [
        "import torch\n",
        "import pandas as pd\n",
        "import numpy as np\n",
        "import matplotlib.pyplot as plt\n",
        "print(torch.__version__)"
      ]
    },
    {
      "cell_type": "markdown",
      "source": [
        "###**Introduction to Tensors**\n",
        "###**Creating Tensors**\n",
        "\n",
        "PyTorch tensors are created usng torch.tensor()\n"
      ],
      "metadata": {
        "id": "n511HonYkUGc"
      }
    },
    {
      "cell_type": "code",
      "source": [
        "#scalar\n",
        "scalar = torch.tensor(7)\n",
        "scalar"
      ],
      "metadata": {
        "colab": {
          "base_uri": "https://localhost:8080/"
        },
        "id": "5_XzaAFn4uGp",
        "outputId": "11badc73-756c-4bbc-f8b4-d497ab57e693"
      },
      "execution_count": null,
      "outputs": [
        {
          "output_type": "execute_result",
          "data": {
            "text/plain": [
              "tensor(7)"
            ]
          },
          "metadata": {},
          "execution_count": 158
        }
      ]
    },
    {
      "cell_type": "code",
      "source": [
        "scalar.ndim #scalars are zero dimensional tensor"
      ],
      "metadata": {
        "colab": {
          "base_uri": "https://localhost:8080/"
        },
        "id": "XAYnQSGm7Dgo",
        "outputId": "42bbfed2-5270-4347-ea88-20034cf2b92d"
      },
      "execution_count": null,
      "outputs": [
        {
          "output_type": "execute_result",
          "data": {
            "text/plain": [
              "0"
            ]
          },
          "metadata": {},
          "execution_count": 159
        }
      ]
    },
    {
      "cell_type": "code",
      "source": [
        "#Get tensor back as Python int\n",
        "scalar.item()"
      ],
      "metadata": {
        "colab": {
          "base_uri": "https://localhost:8080/"
        },
        "id": "n-lvLh5o9Nmf",
        "outputId": "91aa0631-3422-407a-e82a-376973e0b8bd"
      },
      "execution_count": null,
      "outputs": [
        {
          "output_type": "execute_result",
          "data": {
            "text/plain": [
              "7"
            ]
          },
          "metadata": {},
          "execution_count": 160
        }
      ]
    },
    {
      "cell_type": "code",
      "source": [
        "# Vector\n",
        "vector = torch.tensor([2,4])\n",
        "vector"
      ],
      "metadata": {
        "colab": {
          "base_uri": "https://localhost:8080/"
        },
        "id": "O2dd42ey9f0v",
        "outputId": "0e396211-b398-432e-8261-2870bda1b7b2"
      },
      "execution_count": null,
      "outputs": [
        {
          "output_type": "execute_result",
          "data": {
            "text/plain": [
              "tensor([2, 4])"
            ]
          },
          "metadata": {},
          "execution_count": 161
        }
      ]
    },
    {
      "cell_type": "code",
      "source": [
        "vector.ndim #vectors are one dimensional tensor"
      ],
      "metadata": {
        "colab": {
          "base_uri": "https://localhost:8080/"
        },
        "id": "8jXdhk5o91bT",
        "outputId": "0a8a86bb-8740-4d56-f113-45a5d2bd17c4"
      },
      "execution_count": null,
      "outputs": [
        {
          "output_type": "execute_result",
          "data": {
            "text/plain": [
              "1"
            ]
          },
          "metadata": {},
          "execution_count": 162
        }
      ]
    },
    {
      "cell_type": "code",
      "source": [
        "vector.shape"
      ],
      "metadata": {
        "colab": {
          "base_uri": "https://localhost:8080/"
        },
        "id": "dl5XAKHa99r9",
        "outputId": "19c6b9c7-a939-4d98-eb6d-24ed0e19951a"
      },
      "execution_count": null,
      "outputs": [
        {
          "output_type": "execute_result",
          "data": {
            "text/plain": [
              "torch.Size([2])"
            ]
          },
          "metadata": {},
          "execution_count": 163
        }
      ]
    },
    {
      "cell_type": "code",
      "source": [
        "#MATRIX\n",
        "MATRIX = torch.tensor([[2,5],[5,6]])"
      ],
      "metadata": {
        "id": "SuGb5GDS-Fhq"
      },
      "execution_count": null,
      "outputs": []
    },
    {
      "cell_type": "code",
      "source": [
        "MATRIX"
      ],
      "metadata": {
        "colab": {
          "base_uri": "https://localhost:8080/"
        },
        "id": "wCCUE5efj87W",
        "outputId": "7eb2a0d0-80e1-4a10-ab2b-ba4adcd7cfba"
      },
      "execution_count": null,
      "outputs": [
        {
          "output_type": "execute_result",
          "data": {
            "text/plain": [
              "tensor([[2, 5],\n",
              "        [5, 6]])"
            ]
          },
          "metadata": {},
          "execution_count": 165
        }
      ]
    },
    {
      "cell_type": "code",
      "source": [
        "MATRIX.ndim"
      ],
      "metadata": {
        "colab": {
          "base_uri": "https://localhost:8080/"
        },
        "id": "Jx0awyztfwdf",
        "outputId": "566485b1-2737-467e-d3fb-950744caf4df"
      },
      "execution_count": null,
      "outputs": [
        {
          "output_type": "execute_result",
          "data": {
            "text/plain": [
              "2"
            ]
          },
          "metadata": {},
          "execution_count": 166
        }
      ]
    },
    {
      "cell_type": "code",
      "source": [
        "MATRIX.size()"
      ],
      "metadata": {
        "colab": {
          "base_uri": "https://localhost:8080/"
        },
        "id": "2Pvh1fbBl9FI",
        "outputId": "ade15c38-3850-4344-de45-299b3669ffbf"
      },
      "execution_count": null,
      "outputs": [
        {
          "output_type": "execute_result",
          "data": {
            "text/plain": [
              "torch.Size([2, 2])"
            ]
          },
          "metadata": {},
          "execution_count": 167
        }
      ]
    },
    {
      "cell_type": "code",
      "source": [
        "MATRIX.shape"
      ],
      "metadata": {
        "colab": {
          "base_uri": "https://localhost:8080/"
        },
        "id": "OH8CaeAqfyXu",
        "outputId": "e75c59db-ed8d-43da-b338-db2ae26eee5d"
      },
      "execution_count": null,
      "outputs": [
        {
          "output_type": "execute_result",
          "data": {
            "text/plain": [
              "torch.Size([2, 2])"
            ]
          },
          "metadata": {},
          "execution_count": 168
        }
      ]
    },
    {
      "cell_type": "code",
      "source": [
        "#TENSOR\n",
        "TENSOR = torch.tensor([[[1,2,3,4],\n",
        "                        [5,6,7,8],\n",
        "                        [9,10,11,12]]])\n",
        "TENSOR"
      ],
      "metadata": {
        "colab": {
          "base_uri": "https://localhost:8080/"
        },
        "id": "YHCpwsJnf670",
        "outputId": "d83629bd-4187-44a8-d0b6-f2c0d19baa3b"
      },
      "execution_count": null,
      "outputs": [
        {
          "output_type": "execute_result",
          "data": {
            "text/plain": [
              "tensor([[[ 1,  2,  3,  4],\n",
              "         [ 5,  6,  7,  8],\n",
              "         [ 9, 10, 11, 12]]])"
            ]
          },
          "metadata": {},
          "execution_count": 169
        }
      ]
    },
    {
      "cell_type": "code",
      "source": [
        "TENSOR.ndim"
      ],
      "metadata": {
        "colab": {
          "base_uri": "https://localhost:8080/"
        },
        "id": "wpDN68eZgb3v",
        "outputId": "45a0ce0f-ba6c-4ff4-aba2-72494c88cc93"
      },
      "execution_count": null,
      "outputs": [
        {
          "output_type": "execute_result",
          "data": {
            "text/plain": [
              "3"
            ]
          },
          "metadata": {},
          "execution_count": 170
        }
      ]
    },
    {
      "cell_type": "code",
      "source": [
        "TENSOR.size()"
      ],
      "metadata": {
        "colab": {
          "base_uri": "https://localhost:8080/"
        },
        "id": "DBfutI2glv4g",
        "outputId": "ec1031f9-6eee-488f-8dcb-01dc9977431a"
      },
      "execution_count": null,
      "outputs": [
        {
          "output_type": "execute_result",
          "data": {
            "text/plain": [
              "torch.Size([1, 3, 4])"
            ]
          },
          "metadata": {},
          "execution_count": 171
        }
      ]
    },
    {
      "cell_type": "code",
      "source": [
        "TENSOR[0]"
      ],
      "metadata": {
        "colab": {
          "base_uri": "https://localhost:8080/"
        },
        "id": "JZa4Qjc-hMC4",
        "outputId": "4dd4da12-7024-49bc-8951-04934580dab0"
      },
      "execution_count": null,
      "outputs": [
        {
          "output_type": "execute_result",
          "data": {
            "text/plain": [
              "tensor([[ 1,  2,  3,  4],\n",
              "        [ 5,  6,  7,  8],\n",
              "        [ 9, 10, 11, 12]])"
            ]
          },
          "metadata": {},
          "execution_count": 172
        }
      ]
    },
    {
      "cell_type": "markdown",
      "source": [
        "![image.png](data:image/png;base64,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)"
      ],
      "metadata": {
        "id": "EY4PKDKwhbsG"
      }
    },
    {
      "cell_type": "code",
      "source": [
        "TENSOR.shape # one 3x4 tensor"
      ],
      "metadata": {
        "colab": {
          "base_uri": "https://localhost:8080/"
        },
        "id": "vhGU1j2fgl4k",
        "outputId": "7cde5060-cdec-4bc4-d3d7-aa307dcd4b01"
      },
      "execution_count": null,
      "outputs": [
        {
          "output_type": "execute_result",
          "data": {
            "text/plain": [
              "torch.Size([1, 3, 4])"
            ]
          },
          "metadata": {},
          "execution_count": 173
        }
      ]
    },
    {
      "cell_type": "markdown",
      "source": [
        "###**Random Tensors**\n",
        "\n",
        "**Why random tensor?**\n",
        "\n",
        "Random tensors are important because the way neural networks learn is that they with tensors full of random numbers and then adjust those random number to better represent the data\n",
        "\n",
        "**FloatTensor** ; by **default**, PyTorch tensors are populated with **32-bit floating** point numbers\n",
        "\n",
        "`Start with random numbers -> loot at data  -> update random numbers -> loot at data  -> update random numbers ->`"
      ],
      "metadata": {
        "id": "0g0xXychkGry"
      }
    },
    {
      "cell_type": "code",
      "source": [
        "#create a random tensor (3,4)\n",
        "random_tensor = torch.rand(3,4)"
      ],
      "metadata": {
        "id": "-GqWJ9aQjuX7"
      },
      "execution_count": null,
      "outputs": []
    },
    {
      "cell_type": "code",
      "source": [
        "random_tensor"
      ],
      "metadata": {
        "id": "YdZRiMv6gnmE",
        "colab": {
          "base_uri": "https://localhost:8080/"
        },
        "outputId": "0cf53e90-c5ba-4b39-e57e-c1e2107a1d1a"
      },
      "execution_count": null,
      "outputs": [
        {
          "output_type": "execute_result",
          "data": {
            "text/plain": [
              "tensor([[0.7595, 0.9175, 0.3435, 0.1452],\n",
              "        [0.1803, 0.7950, 0.0248, 0.7774],\n",
              "        [0.4392, 0.4174, 0.2154, 0.7209]])"
            ]
          },
          "metadata": {},
          "execution_count": 175
        }
      ]
    },
    {
      "cell_type": "code",
      "source": [
        "random_tensor.dtype"
      ],
      "metadata": {
        "colab": {
          "base_uri": "https://localhost:8080/"
        },
        "id": "M4cQKYrR2ShN",
        "outputId": "d8b1ec97-b02f-4f08-a95d-7526db7435b0"
      },
      "execution_count": null,
      "outputs": [
        {
          "output_type": "execute_result",
          "data": {
            "text/plain": [
              "torch.float32"
            ]
          },
          "metadata": {},
          "execution_count": 176
        }
      ]
    },
    {
      "cell_type": "code",
      "source": [
        "random_tensor.ndim"
      ],
      "metadata": {
        "colab": {
          "base_uri": "https://localhost:8080/"
        },
        "id": "OWrDcBRgvnVW",
        "outputId": "59aff50d-96c9-490e-e4b6-be92fb39c761"
      },
      "execution_count": null,
      "outputs": [
        {
          "output_type": "execute_result",
          "data": {
            "text/plain": [
              "2"
            ]
          },
          "metadata": {},
          "execution_count": 177
        }
      ]
    },
    {
      "cell_type": "code",
      "source": [
        "# create a random tensor with similar shape to an image tensor\n",
        "random_image_size_tensor = torch.rand(size=(3,224,224)) #color channel, height, width"
      ],
      "metadata": {
        "id": "RTG8e-0Vv4Sz"
      },
      "execution_count": null,
      "outputs": []
    },
    {
      "cell_type": "code",
      "source": [
        "random_image_size_tensor.ndim"
      ],
      "metadata": {
        "colab": {
          "base_uri": "https://localhost:8080/"
        },
        "id": "1lEbyy5ozqeu",
        "outputId": "9604e90e-77ef-49e2-af66-92d2f732e405"
      },
      "execution_count": null,
      "outputs": [
        {
          "output_type": "execute_result",
          "data": {
            "text/plain": [
              "3"
            ]
          },
          "metadata": {},
          "execution_count": 179
        }
      ]
    },
    {
      "cell_type": "code",
      "source": [
        "random_image_size_tensor.size()"
      ],
      "metadata": {
        "colab": {
          "base_uri": "https://localhost:8080/"
        },
        "id": "R7MmKOMH061W",
        "outputId": "84373fa5-ae0d-478f-93c1-9de3117fb305"
      },
      "execution_count": null,
      "outputs": [
        {
          "output_type": "execute_result",
          "data": {
            "text/plain": [
              "torch.Size([3, 224, 224])"
            ]
          },
          "metadata": {},
          "execution_count": 180
        }
      ]
    },
    {
      "cell_type": "code",
      "source": [
        "random_image_size_tensor.shape"
      ],
      "metadata": {
        "colab": {
          "base_uri": "https://localhost:8080/"
        },
        "id": "gviP0YjO07uR",
        "outputId": "dd0af742-9bbc-4c07-9976-829cb976e8b8"
      },
      "execution_count": null,
      "outputs": [
        {
          "output_type": "execute_result",
          "data": {
            "text/plain": [
              "torch.Size([3, 224, 224])"
            ]
          },
          "metadata": {},
          "execution_count": 181
        }
      ]
    },
    {
      "cell_type": "markdown",
      "source": [
        "### **Zeros and Ones**"
      ],
      "metadata": {
        "id": "Z5AyVOrU3muH"
      }
    },
    {
      "cell_type": "code",
      "source": [
        "# Creating a tensor of all zeros\n",
        "zeros = torch.zeros(size=(3,4))\n",
        "zeros"
      ],
      "metadata": {
        "colab": {
          "base_uri": "https://localhost:8080/"
        },
        "id": "exnf1de01DTm",
        "outputId": "2561238c-59ba-44e8-8f66-83caf7b3d794"
      },
      "execution_count": null,
      "outputs": [
        {
          "output_type": "execute_result",
          "data": {
            "text/plain": [
              "tensor([[0., 0., 0., 0.],\n",
              "        [0., 0., 0., 0.],\n",
              "        [0., 0., 0., 0.]])"
            ]
          },
          "metadata": {},
          "execution_count": 182
        }
      ]
    },
    {
      "cell_type": "code",
      "source": [
        "# Creating a tensor of all ones\n",
        "ones = torch.ones(size=(3,4))\n",
        "ones"
      ],
      "metadata": {
        "colab": {
          "base_uri": "https://localhost:8080/"
        },
        "id": "nRGYVkEJ27-y",
        "outputId": "63be3a61-8b80-4073-b556-a4a82bbe8adb"
      },
      "execution_count": null,
      "outputs": [
        {
          "output_type": "execute_result",
          "data": {
            "text/plain": [
              "tensor([[1., 1., 1., 1.],\n",
              "        [1., 1., 1., 1.],\n",
              "        [1., 1., 1., 1.]])"
            ]
          },
          "metadata": {},
          "execution_count": 183
        }
      ]
    },
    {
      "cell_type": "code",
      "source": [
        "ones.dtype"
      ],
      "metadata": {
        "colab": {
          "base_uri": "https://localhost:8080/"
        },
        "id": "VIRACez127Dr",
        "outputId": "61169b12-f56c-4022-edfd-8e13113d5a64"
      },
      "execution_count": null,
      "outputs": [
        {
          "output_type": "execute_result",
          "data": {
            "text/plain": [
              "torch.float32"
            ]
          },
          "metadata": {},
          "execution_count": 184
        }
      ]
    },
    {
      "cell_type": "code",
      "source": [
        "random_tensor.dtype"
      ],
      "metadata": {
        "colab": {
          "base_uri": "https://localhost:8080/"
        },
        "id": "-vdaOgf95GjN",
        "outputId": "4dcca388-2f20-431f-fde5-6300f8643070"
      },
      "execution_count": null,
      "outputs": [
        {
          "output_type": "execute_result",
          "data": {
            "text/plain": [
              "torch.float32"
            ]
          },
          "metadata": {},
          "execution_count": 185
        }
      ]
    },
    {
      "cell_type": "markdown",
      "source": [
        "###**Creating a range of tensors and tensor-like**\n"
      ],
      "metadata": {
        "id": "q0agRkox51aW"
      }
    },
    {
      "cell_type": "code",
      "source": [
        "# Use torch.range()\n",
        "one_to_ten=torch.arange(0,10,1)"
      ],
      "metadata": {
        "id": "PDm0Irbs5-fp"
      },
      "execution_count": null,
      "outputs": []
    },
    {
      "cell_type": "code",
      "source": [
        "torch.__version__"
      ],
      "metadata": {
        "colab": {
          "base_uri": "https://localhost:8080/",
          "height": 36
        },
        "id": "cOraiTzA6air",
        "outputId": "6e3161d7-7730-4e4b-8aa8-314741121e44"
      },
      "execution_count": null,
      "outputs": [
        {
          "output_type": "execute_result",
          "data": {
            "text/plain": [
              "'2.0.1+cu118'"
            ],
            "application/vnd.google.colaboratory.intrinsic+json": {
              "type": "string"
            }
          },
          "metadata": {},
          "execution_count": 187
        }
      ]
    },
    {
      "cell_type": "code",
      "source": [
        "one_to_ten"
      ],
      "metadata": {
        "colab": {
          "base_uri": "https://localhost:8080/"
        },
        "id": "th1ZT88s6jwg",
        "outputId": "010edd65-7682-41c7-d29a-d1409783e1d6"
      },
      "execution_count": null,
      "outputs": [
        {
          "output_type": "execute_result",
          "data": {
            "text/plain": [
              "tensor([0, 1, 2, 3, 4, 5, 6, 7, 8, 9])"
            ]
          },
          "metadata": {},
          "execution_count": 188
        }
      ]
    },
    {
      "cell_type": "code",
      "source": [
        "#creating tensor like zeros\n",
        "ten_zeros = torch.zeros_like(one_to_ten)\n",
        "ten_zeros"
      ],
      "metadata": {
        "colab": {
          "base_uri": "https://localhost:8080/"
        },
        "id": "pPVRjuIU76ac",
        "outputId": "734896a0-938c-4cad-8ff8-0e1224a11d50"
      },
      "execution_count": null,
      "outputs": [
        {
          "output_type": "execute_result",
          "data": {
            "text/plain": [
              "tensor([0, 0, 0, 0, 0, 0, 0, 0, 0, 0])"
            ]
          },
          "metadata": {},
          "execution_count": 189
        }
      ]
    },
    {
      "cell_type": "code",
      "source": [
        "#creating tensor like ones\n",
        "ten_ones = torch.ones_like(one_to_ten)\n",
        "ten_ones"
      ],
      "metadata": {
        "colab": {
          "base_uri": "https://localhost:8080/"
        },
        "id": "LVmxWoJm8O5D",
        "outputId": "40c5f04d-8976-4384-9235-63b60afb6158"
      },
      "execution_count": null,
      "outputs": [
        {
          "output_type": "execute_result",
          "data": {
            "text/plain": [
              "tensor([1, 1, 1, 1, 1, 1, 1, 1, 1, 1])"
            ]
          },
          "metadata": {},
          "execution_count": 190
        }
      ]
    },
    {
      "cell_type": "markdown",
      "source": [
        "###**Tensor datatypes**\n",
        "A torch.dtype is an object that represents the data type of a torch.Tensor.\n",
        "\n",
        "**Note:** Tensor datatypes is one of the big errors yoy'll run into with PyTorch & Deep Learning\n",
        "1. Tensors not right datatypes\n",
        "2. Tensors not right shape\n",
        "3. Tensors not on the right device\n",
        "\n",
        "What is this dtypes means -\n",
        "In computer science, the precision of a numerical quantity is a measure of the detail in which the quantity is expressed. This is usually measured in bits, but sometimes in decimal digits. It is related to precision in mathematics, which describes the number of digits that are used to express a value."
      ],
      "metadata": {
        "id": "D-dYAcRG88Q8"
      }
    },
    {
      "cell_type": "code",
      "source": [
        "# Float 32 tensor - default datatype\n",
        "float_32_tensor = torch.tensor([3.0, 6.0, 9.0], dtype = None,\n",
        "                                            device = \"cpu\",\n",
        "                                            requires_grad = False)\n",
        "\n",
        "float_32_tensor.dtype"
      ],
      "metadata": {
        "colab": {
          "base_uri": "https://localhost:8080/"
        },
        "id": "uTdMdloq8mIy",
        "outputId": "a271e1c3-8cab-4ffb-c275-2b4d59a83efb"
      },
      "execution_count": null,
      "outputs": [
        {
          "output_type": "execute_result",
          "data": {
            "text/plain": [
              "torch.float32"
            ]
          },
          "metadata": {},
          "execution_count": 191
        }
      ]
    },
    {
      "cell_type": "code",
      "source": [
        "b  = torch.rand(4,5)\n",
        "b"
      ],
      "metadata": {
        "colab": {
          "base_uri": "https://localhost:8080/"
        },
        "id": "dafhVb_r3eEi",
        "outputId": "68aff0d5-be55-48e9-db6b-e6786480864f"
      },
      "execution_count": null,
      "outputs": [
        {
          "output_type": "execute_result",
          "data": {
            "text/plain": [
              "tensor([[0.3601, 0.8042, 0.0641, 0.0769, 0.7880],\n",
              "        [0.5038, 0.8109, 0.9319, 0.8750, 0.1682],\n",
              "        [0.2378, 0.3409, 0.9510, 0.5479, 0.0707],\n",
              "        [0.7159, 0.9993, 0.5552, 0.8129, 0.0704]])"
            ]
          },
          "metadata": {},
          "execution_count": 192
        }
      ]
    },
    {
      "cell_type": "code",
      "source": [
        "b.dtype"
      ],
      "metadata": {
        "colab": {
          "base_uri": "https://localhost:8080/"
        },
        "id": "AqXScaS662P5",
        "outputId": "12c24c74-3302-46e5-b33b-7318875cc775"
      },
      "execution_count": null,
      "outputs": [
        {
          "output_type": "execute_result",
          "data": {
            "text/plain": [
              "torch.float32"
            ]
          },
          "metadata": {},
          "execution_count": 193
        }
      ]
    },
    {
      "cell_type": "code",
      "source": [
        "int_64_tensor = torch.tensor([3, 6, 9], dtype= torch.int)\n",
        "int_64_tensor.dtype"
      ],
      "metadata": {
        "colab": {
          "base_uri": "https://localhost:8080/"
        },
        "id": "QeDPunLq-VAP",
        "outputId": "1d179f26-552f-4939-d93d-98f38e1af732"
      },
      "execution_count": null,
      "outputs": [
        {
          "output_type": "execute_result",
          "data": {
            "text/plain": [
              "torch.int32"
            ]
          },
          "metadata": {},
          "execution_count": 194
        }
      ]
    },
    {
      "cell_type": "code",
      "source": [
        "c = int_64_tensor + float_32_tensor"
      ],
      "metadata": {
        "id": "7yQIw9wJ-U4g"
      },
      "execution_count": null,
      "outputs": []
    },
    {
      "cell_type": "code",
      "source": [
        "c.dtype"
      ],
      "metadata": {
        "id": "ovywhFi3-U1Q",
        "colab": {
          "base_uri": "https://localhost:8080/"
        },
        "outputId": "042f7ff7-4f77-4b46-8f67-eb3b8db843f3"
      },
      "execution_count": null,
      "outputs": [
        {
          "output_type": "execute_result",
          "data": {
            "text/plain": [
              "torch.float32"
            ]
          },
          "metadata": {},
          "execution_count": 196
        }
      ]
    },
    {
      "cell_type": "markdown",
      "source": [
        "###**Getting information in  tensors (Tensor Attribut**\n",
        "1. Tensors datatypes - `tensor.dtype`\n",
        "2. Tensors shape - `tensor.shape` -\n",
        "3. Tensors device - `tensor.device`"
      ],
      "metadata": {
        "id": "MmFYI6Wv9Az5"
      }
    },
    {
      "cell_type": "code",
      "source": [
        "# create a tensor\n",
        "some_tensor = torch.rand(3,4)\n",
        "some_tensor"
      ],
      "metadata": {
        "colab": {
          "base_uri": "https://localhost:8080/"
        },
        "id": "nuqY4CRs8jJi",
        "outputId": "b4bff883-5aa1-4c1c-a77d-234f926063e4"
      },
      "execution_count": null,
      "outputs": [
        {
          "output_type": "execute_result",
          "data": {
            "text/plain": [
              "tensor([[0.4465, 0.4374, 0.3956, 0.6492],\n",
              "        [0.3099, 0.5388, 0.8012, 0.6798],\n",
              "        [0.3217, 0.0356, 0.2122, 0.8042]])"
            ]
          },
          "metadata": {},
          "execution_count": 197
        }
      ]
    },
    {
      "cell_type": "code",
      "source": [
        "#Find out some details about tensor\n",
        "print(some_tensor)\n",
        "print(f\"Datatypes of tensor{some_tensor.dtype}\")\n",
        "print(f\"Shape of tensor{some_tensor.shape}\")\n",
        "print(f\"Device of tensor{some_tensor.device}\")"
      ],
      "metadata": {
        "colab": {
          "base_uri": "https://localhost:8080/"
        },
        "id": "xUxZUipn75zo",
        "outputId": "c5224d6b-31f0-457a-bcf7-a4d171bfd9ec"
      },
      "execution_count": null,
      "outputs": [
        {
          "output_type": "stream",
          "name": "stdout",
          "text": [
            "tensor([[0.4465, 0.4374, 0.3956, 0.6492],\n",
            "        [0.3099, 0.5388, 0.8012, 0.6798],\n",
            "        [0.3217, 0.0356, 0.2122, 0.8042]])\n",
            "Datatypes of tensortorch.float32\n",
            "Shape of tensortorch.Size([3, 4])\n",
            "Device of tensorcpu\n"
          ]
        }
      ]
    },
    {
      "cell_type": "markdown",
      "source": [
        "###**Manipulating Tensors (Tesnor Operation)**\n"
      ],
      "metadata": {
        "id": "VR3X0FbjQL55"
      }
    },
    {
      "cell_type": "code",
      "source": [
        "# Create a tensor addition\n",
        "tensor = torch.tensor([1,2,3])\n",
        "tensor + 10"
      ],
      "metadata": {
        "colab": {
          "base_uri": "https://localhost:8080/"
        },
        "id": "PyI7Zbg0-cdM",
        "outputId": "46ed676b-5846-4ff6-db6f-7c4012d45911"
      },
      "execution_count": null,
      "outputs": [
        {
          "output_type": "execute_result",
          "data": {
            "text/plain": [
              "tensor([11, 12, 13])"
            ]
          },
          "metadata": {},
          "execution_count": 199
        }
      ]
    },
    {
      "cell_type": "code",
      "source": [
        "tensor * 10 #element wise"
      ],
      "metadata": {
        "colab": {
          "base_uri": "https://localhost:8080/"
        },
        "id": "gVbm6_1E_9VL",
        "outputId": "ea1ee558-f59e-4915-eee1-0e01e4393824"
      },
      "execution_count": null,
      "outputs": [
        {
          "output_type": "execute_result",
          "data": {
            "text/plain": [
              "tensor([10, 20, 30])"
            ]
          },
          "metadata": {},
          "execution_count": 200
        }
      ]
    },
    {
      "cell_type": "code",
      "source": [
        "tensor - 10"
      ],
      "metadata": {
        "colab": {
          "base_uri": "https://localhost:8080/"
        },
        "id": "UMykFx00RLx3",
        "outputId": "e066bfaa-52f6-40cc-8b99-2e4d093ca117"
      },
      "execution_count": null,
      "outputs": [
        {
          "output_type": "execute_result",
          "data": {
            "text/plain": [
              "tensor([-9, -8, -7])"
            ]
          },
          "metadata": {},
          "execution_count": 201
        }
      ]
    },
    {
      "cell_type": "code",
      "source": [
        "#Try out PyTorch in-built function\n",
        "torch.mul(10,tensor)"
      ],
      "metadata": {
        "colab": {
          "base_uri": "https://localhost:8080/"
        },
        "id": "dcx8rEiRRWg9",
        "outputId": "0314b806-ae4d-4a92-ca7d-30d45fb48336"
      },
      "execution_count": null,
      "outputs": [
        {
          "output_type": "execute_result",
          "data": {
            "text/plain": [
              "tensor([10, 20, 30])"
            ]
          },
          "metadata": {},
          "execution_count": 202
        }
      ]
    },
    {
      "cell_type": "code",
      "source": [
        "torch.add(10,tensor)"
      ],
      "metadata": {
        "colab": {
          "base_uri": "https://localhost:8080/"
        },
        "id": "6EZ8Du3xRlPY",
        "outputId": "eacb83a8-dbf2-4fe7-ced0-3622b5e7b561"
      },
      "execution_count": null,
      "outputs": [
        {
          "output_type": "execute_result",
          "data": {
            "text/plain": [
              "tensor([11, 12, 13])"
            ]
          },
          "metadata": {},
          "execution_count": 203
        }
      ]
    },
    {
      "cell_type": "code",
      "source": [
        "torch.sub(10,tensor)"
      ],
      "metadata": {
        "colab": {
          "base_uri": "https://localhost:8080/"
        },
        "id": "L4Z7zmCuRopR",
        "outputId": "2c2d2654-b4b6-451f-ec82-4eec39a7c639"
      },
      "execution_count": null,
      "outputs": [
        {
          "output_type": "execute_result",
          "data": {
            "text/plain": [
              "tensor([9, 8, 7])"
            ]
          },
          "metadata": {},
          "execution_count": 204
        }
      ]
    },
    {
      "cell_type": "code",
      "source": [
        "torch.sub(tensor,10)"
      ],
      "metadata": {
        "colab": {
          "base_uri": "https://localhost:8080/"
        },
        "id": "28szltv4R1tF",
        "outputId": "53730944-59e8-41bb-f579-f63500727229"
      },
      "execution_count": null,
      "outputs": [
        {
          "output_type": "execute_result",
          "data": {
            "text/plain": [
              "tensor([-9, -8, -7])"
            ]
          },
          "metadata": {},
          "execution_count": 205
        }
      ]
    },
    {
      "cell_type": "markdown",
      "source": [
        "###**Matrix Multiplication**\n",
        "There are two main ways of performing multiplication in neural networks and deep learning\n",
        "1. Element wise multiplication\n",
        "2. Matrix multiplication (dot product)"
      ],
      "metadata": {
        "id": "tPqBlz7GSKWt"
      }
    },
    {
      "cell_type": "code",
      "source": [
        "#Element eise multiplication\n",
        "print(tensor,\"*\",tensor)\n",
        "print(f\"Equals:{tensor * tensor}\")"
      ],
      "metadata": {
        "colab": {
          "base_uri": "https://localhost:8080/"
        },
        "id": "sEYr2GulSEeW",
        "outputId": "33651a99-387f-45b8-baf0-8b99f94724b7"
      },
      "execution_count": null,
      "outputs": [
        {
          "output_type": "stream",
          "name": "stdout",
          "text": [
            "tensor([1, 2, 3]) * tensor([1, 2, 3])\n",
            "Equals:tensor([1, 4, 9])\n"
          ]
        }
      ]
    },
    {
      "cell_type": "code",
      "source": [
        "#Matrix Multiplication\n",
        "torch.matmul(tensor,tensor)"
      ],
      "metadata": {
        "colab": {
          "base_uri": "https://localhost:8080/"
        },
        "id": "GjW2mk1DuzXT",
        "outputId": "f8580fff-4943-4aa8-939f-6731eece1b3b"
      },
      "execution_count": null,
      "outputs": [
        {
          "output_type": "execute_result",
          "data": {
            "text/plain": [
              "tensor(14)"
            ]
          },
          "metadata": {},
          "execution_count": 207
        }
      ]
    },
    {
      "cell_type": "code",
      "source": [
        "tensor @ tensor # @ stands for matrix mutiplication"
      ],
      "metadata": {
        "colab": {
          "base_uri": "https://localhost:8080/"
        },
        "id": "U1Q2sZCmxUVA",
        "outputId": "8a5ba2a3-7595-4de4-af72-201ebecf6be2"
      },
      "execution_count": null,
      "outputs": [
        {
          "output_type": "execute_result",
          "data": {
            "text/plain": [
              "tensor(14)"
            ]
          },
          "metadata": {},
          "execution_count": 208
        }
      ]
    },
    {
      "cell_type": "code",
      "source": [
        "# Matrix Mu;tiplication by hand\n",
        "1*1 + 2*2 + 3*3"
      ],
      "metadata": {
        "colab": {
          "base_uri": "https://localhost:8080/"
        },
        "id": "XYzAPM5JvCsN",
        "outputId": "3c7ab712-7def-4dea-ae26-78f376e2ecd0"
      },
      "execution_count": null,
      "outputs": [
        {
          "output_type": "execute_result",
          "data": {
            "text/plain": [
              "14"
            ]
          },
          "metadata": {},
          "execution_count": 209
        }
      ]
    },
    {
      "cell_type": "code",
      "source": [
        "%%time\n",
        "value =  0\n",
        "for i in range(len(tensor)):\n",
        "  value+= tensor[i] * tensor[i]\n",
        "print(value)"
      ],
      "metadata": {
        "colab": {
          "base_uri": "https://localhost:8080/"
        },
        "id": "keza02A-vvsZ",
        "outputId": "e4115fcb-fdc1-4831-9c15-bb3c41d9d43e"
      },
      "execution_count": null,
      "outputs": [
        {
          "output_type": "stream",
          "name": "stdout",
          "text": [
            "tensor(14)\n",
            "CPU times: user 2.08 ms, sys: 0 ns, total: 2.08 ms\n",
            "Wall time: 3.1 ms\n"
          ]
        }
      ]
    },
    {
      "cell_type": "code",
      "source": [
        "%%time\n",
        "torch.matmul(tensor,tensor)"
      ],
      "metadata": {
        "colab": {
          "base_uri": "https://localhost:8080/"
        },
        "id": "31_LYNMYv24o",
        "outputId": "114cafcd-42b1-47ba-cbe4-baa43755666c"
      },
      "execution_count": null,
      "outputs": [
        {
          "output_type": "stream",
          "name": "stdout",
          "text": [
            "CPU times: user 1.29 ms, sys: 24 µs, total: 1.31 ms\n",
            "Wall time: 2.01 ms\n"
          ]
        },
        {
          "output_type": "execute_result",
          "data": {
            "text/plain": [
              "tensor(14)"
            ]
          },
          "metadata": {},
          "execution_count": 211
        }
      ]
    },
    {
      "cell_type": "markdown",
      "source": [
        "**There are two main rules that performing matrix multiplication needs to statisfy**\n",
        "1. The **inner dimension** must match\n",
        "2. The resulting matrix has the shape of the **outer dimension**\n"
      ],
      "metadata": {
        "id": "Q1eQ9WVtwzTH"
      }
    },
    {
      "cell_type": "code",
      "source": [
        "#torch.matmul(torch.rand(2,3),torch.rand(2,3))"
      ],
      "metadata": {
        "id": "GNSEFwiEwT7Z"
      },
      "execution_count": null,
      "outputs": []
    },
    {
      "cell_type": "code",
      "source": [
        "torch.mm(torch.rand(2,3),torch.rand(3,2)) #mm - matmul"
      ],
      "metadata": {
        "colab": {
          "base_uri": "https://localhost:8080/"
        },
        "id": "W6DL1lowyO2t",
        "outputId": "7091896a-81f7-47d7-f716-d95ded4347c4"
      },
      "execution_count": null,
      "outputs": [
        {
          "output_type": "execute_result",
          "data": {
            "text/plain": [
              "tensor([[0.5955, 0.8112],\n",
              "        [0.5587, 0.4399]])"
            ]
          },
          "metadata": {},
          "execution_count": 213
        }
      ]
    },
    {
      "cell_type": "markdown",
      "source": [
        "To fix our tensor shape issues, we can manipulate the shape of one of our tensors using **transpose**\n",
        "\n",
        "A **transpose** switches the axes or dimensions of a given tensor\n"
      ],
      "metadata": {
        "id": "9c2LiEFy3okR"
      }
    },
    {
      "cell_type": "code",
      "source": [
        "tensor_a = torch.tensor([[1,2],\n",
        "                         [3,4],\n",
        "                         [5,6]])\n",
        "tensor_a"
      ],
      "metadata": {
        "colab": {
          "base_uri": "https://localhost:8080/"
        },
        "id": "q0Nl0sx40iGc",
        "outputId": "6da75e08-d3e7-4da9-f6bb-9f1d3a04458f"
      },
      "execution_count": null,
      "outputs": [
        {
          "output_type": "execute_result",
          "data": {
            "text/plain": [
              "tensor([[1, 2],\n",
              "        [3, 4],\n",
              "        [5, 6]])"
            ]
          },
          "metadata": {},
          "execution_count": 214
        }
      ]
    },
    {
      "cell_type": "code",
      "source": [
        "tensor_b = torch.tensor([[7,9],\n",
        "                         [8,10],\n",
        "                         [11,12]])\n",
        "tensor_b"
      ],
      "metadata": {
        "colab": {
          "base_uri": "https://localhost:8080/"
        },
        "id": "x2Jm1YOcyW7o",
        "outputId": "3fbaa4a9-83e5-4754-8aa5-139c51e8424a"
      },
      "execution_count": null,
      "outputs": [
        {
          "output_type": "execute_result",
          "data": {
            "text/plain": [
              "tensor([[ 7,  9],\n",
              "        [ 8, 10],\n",
              "        [11, 12]])"
            ]
          },
          "metadata": {},
          "execution_count": 215
        }
      ]
    },
    {
      "cell_type": "code",
      "source": [
        "#torch.matmul(tensor_a,tensor_b)"
      ],
      "metadata": {
        "id": "6hxcnQW94d2n"
      },
      "execution_count": null,
      "outputs": []
    },
    {
      "cell_type": "code",
      "source": [
        "torch.matmul(tensor_a,tensor_b.T) # .T is transpose"
      ],
      "metadata": {
        "colab": {
          "base_uri": "https://localhost:8080/"
        },
        "id": "jmLF6Pfz4l_T",
        "outputId": "5c59d789-50b2-4500-8991-ac6843124014"
      },
      "execution_count": null,
      "outputs": [
        {
          "output_type": "execute_result",
          "data": {
            "text/plain": [
              "tensor([[ 25,  28,  35],\n",
              "        [ 57,  64,  81],\n",
              "        [ 89, 100, 127]])"
            ]
          },
          "metadata": {},
          "execution_count": 217
        }
      ]
    },
    {
      "cell_type": "markdown",
      "source": [
        "###**Finding the min,max,mean,sum,etc(tensor aggregation)**"
      ],
      "metadata": {
        "id": "2yLAckAf5kls"
      }
    },
    {
      "cell_type": "code",
      "source": [
        "#create a tensor\n",
        "x = torch.arange(0,100,10)\n",
        "x , x.dtype"
      ],
      "metadata": {
        "colab": {
          "base_uri": "https://localhost:8080/"
        },
        "id": "7GAhIKWk4ywH",
        "outputId": "1f666a98-98fc-4e47-f91a-173e6f855841"
      },
      "execution_count": null,
      "outputs": [
        {
          "output_type": "execute_result",
          "data": {
            "text/plain": [
              "(tensor([ 0, 10, 20, 30, 40, 50, 60, 70, 80, 90]), torch.int64)"
            ]
          },
          "metadata": {},
          "execution_count": 218
        }
      ]
    },
    {
      "cell_type": "code",
      "source": [
        "#find the min\n",
        "torch.min(x), x.min()"
      ],
      "metadata": {
        "colab": {
          "base_uri": "https://localhost:8080/"
        },
        "id": "mZSFnrPs5iKn",
        "outputId": "9d446d5f-330f-4ff2-8fdb-a0f1db32e80c"
      },
      "execution_count": null,
      "outputs": [
        {
          "output_type": "execute_result",
          "data": {
            "text/plain": [
              "(tensor(0), tensor(0))"
            ]
          },
          "metadata": {},
          "execution_count": 219
        }
      ]
    },
    {
      "cell_type": "code",
      "source": [
        "#find the max\n",
        "torch.max(x), x.max()"
      ],
      "metadata": {
        "colab": {
          "base_uri": "https://localhost:8080/"
        },
        "id": "HG2CUabO6tYw",
        "outputId": "577ad4dc-8c48-4533-a8eb-6268eaa1952d"
      },
      "execution_count": null,
      "outputs": [
        {
          "output_type": "execute_result",
          "data": {
            "text/plain": [
              "(tensor(90), tensor(90))"
            ]
          },
          "metadata": {},
          "execution_count": 220
        }
      ]
    },
    {
      "cell_type": "code",
      "source": [
        "#find the mean  -  note : the torch.mean() function requires a tensor of  float32 datatype to work\n",
        "torch.mean(x.type(torch.float32)) , x.type(torch.float32).mean()"
      ],
      "metadata": {
        "colab": {
          "base_uri": "https://localhost:8080/"
        },
        "id": "1DuoBv4k6zln",
        "outputId": "64d46d00-ee54-4a1c-fa08-e339630b1317"
      },
      "execution_count": null,
      "outputs": [
        {
          "output_type": "execute_result",
          "data": {
            "text/plain": [
              "(tensor(45.), tensor(45.))"
            ]
          },
          "metadata": {},
          "execution_count": 221
        }
      ]
    },
    {
      "cell_type": "code",
      "source": [
        "#find the sum\n",
        "torch.sum(x) ,x.sum()"
      ],
      "metadata": {
        "colab": {
          "base_uri": "https://localhost:8080/"
        },
        "id": "5ZVj64uJ7p-K",
        "outputId": "4d68a81f-3c74-49c8-9acf-dcf19e95c555"
      },
      "execution_count": null,
      "outputs": [
        {
          "output_type": "execute_result",
          "data": {
            "text/plain": [
              "(tensor(450), tensor(450))"
            ]
          },
          "metadata": {},
          "execution_count": 222
        }
      ]
    },
    {
      "cell_type": "markdown",
      "source": [
        "**Finding the positional min and max**"
      ],
      "metadata": {
        "id": "h2N71Eyjkz8d"
      }
    },
    {
      "cell_type": "code",
      "source": [
        "x"
      ],
      "metadata": {
        "id": "k-DK8W3A8RVp",
        "colab": {
          "base_uri": "https://localhost:8080/"
        },
        "outputId": "d970f0f0-57d2-455c-bfbd-b45ae7b9b510"
      },
      "execution_count": null,
      "outputs": [
        {
          "output_type": "execute_result",
          "data": {
            "text/plain": [
              "tensor([ 0, 10, 20, 30, 40, 50, 60, 70, 80, 90])"
            ]
          },
          "metadata": {},
          "execution_count": 223
        }
      ]
    },
    {
      "cell_type": "code",
      "source": [
        "#Find the position in tensor that has the minimum value with argmin() -> returns index position of target tensor where the minimum value occurs\n",
        "x.argmin()"
      ],
      "metadata": {
        "colab": {
          "base_uri": "https://localhost:8080/"
        },
        "id": "sdjbFctelQee",
        "outputId": "de12fe6b-7182-4435-ad91-b65329c19149"
      },
      "execution_count": null,
      "outputs": [
        {
          "output_type": "execute_result",
          "data": {
            "text/plain": [
              "tensor(0)"
            ]
          },
          "metadata": {},
          "execution_count": 254
        }
      ]
    },
    {
      "cell_type": "code",
      "source": [
        "#Find the position in tensor that has the maximum value with argmax() -> returns index position of target tensor where the maximum value occurs\n",
        "x.argmax()"
      ],
      "metadata": {
        "colab": {
          "base_uri": "https://localhost:8080/"
        },
        "id": "7jsB5IrqlegL",
        "outputId": "bd869924-5da2-4c51-e12e-38717c006a77"
      },
      "execution_count": null,
      "outputs": [
        {
          "output_type": "execute_result",
          "data": {
            "text/plain": [
              "tensor(9)"
            ]
          },
          "metadata": {},
          "execution_count": 255
        }
      ]
    },
    {
      "cell_type": "markdown",
      "source": [
        "###**Reshaping , stacking , squeezing and unsqueezing tensor**\n",
        "* **Reshaping** - Reshape an input tensor to a defined shape\n",
        "* **View** - Return a view of an input tensor of certain shape but keep the same memory as the original tensor\n",
        "* **Stacking**- Combine multiple tensors on top of each other ( vstack , hstack )\n",
        "* **Squeeze** - Removes all `1` dimension from a tensor\n",
        "* **Unsqueeze** - Add a `1` dimension to a target tensor\n",
        "* **Permute** - Return a view of the input with dimensios permuted (swapped) in a certain way"
      ],
      "metadata": {
        "id": "vSFm0w2omgvw"
      }
    },
    {
      "cell_type": "code",
      "source": [
        "# Let's create a tensor\n",
        "y = torch.arange(1.,10.)\n",
        "y, y.shape"
      ],
      "metadata": {
        "colab": {
          "base_uri": "https://localhost:8080/"
        },
        "id": "tIUKiRDFlxaJ",
        "outputId": "a870fbea-370f-409d-cd12-2a983f08b062"
      },
      "execution_count": null,
      "outputs": [
        {
          "output_type": "execute_result",
          "data": {
            "text/plain": [
              "(tensor([1., 2., 3., 4., 5., 6., 7., 8., 9.]), torch.Size([9]))"
            ]
          },
          "metadata": {},
          "execution_count": 226
        }
      ]
    },
    {
      "cell_type": "code",
      "source": [
        "# Add an extra dimension , reshaping\n",
        "# y_reshaped = y.reshape(2,9) -> should compatible with orginal size\n",
        "y_reshaped = y.reshape(1,9)\n",
        "y_reshaped , y_reshaped.shape"
      ],
      "metadata": {
        "colab": {
          "base_uri": "https://localhost:8080/"
        },
        "id": "EFqAln8EomRV",
        "outputId": "bf611ea5-3d0c-4fe9-e3cb-0d91fd6ea466"
      },
      "execution_count": null,
      "outputs": [
        {
          "output_type": "execute_result",
          "data": {
            "text/plain": [
              "(tensor([[1., 2., 3., 4., 5., 6., 7., 8., 9.]]), torch.Size([1, 9]))"
            ]
          },
          "metadata": {},
          "execution_count": 227
        }
      ]
    },
    {
      "cell_type": "code",
      "source": [
        "y_reshaped = y.reshape(9,1)\n",
        "y_reshaped , y_reshaped.shape, y_reshaped.ndim # need some work in ndim"
      ],
      "metadata": {
        "colab": {
          "base_uri": "https://localhost:8080/"
        },
        "id": "7vxMAc4NpVMn",
        "outputId": "ed4739d2-6ff7-48fb-b9a3-539eb5f0d6e3"
      },
      "execution_count": null,
      "outputs": [
        {
          "output_type": "execute_result",
          "data": {
            "text/plain": [
              "(tensor([[1.],\n",
              "         [2.],\n",
              "         [3.],\n",
              "         [4.],\n",
              "         [5.],\n",
              "         [6.],\n",
              "         [7.],\n",
              "         [8.],\n",
              "         [9.]]),\n",
              " torch.Size([9, 1]),\n",
              " 2)"
            ]
          },
          "metadata": {},
          "execution_count": 228
        }
      ]
    },
    {
      "cell_type": "code",
      "source": [
        "# change the view\n",
        "z = y.view(1,9)\n",
        "z, z.shape"
      ],
      "metadata": {
        "colab": {
          "base_uri": "https://localhost:8080/"
        },
        "id": "0TbP7dpepq6g",
        "outputId": "740ff410-8bb8-4b97-a08e-f3316f5307ae"
      },
      "execution_count": null,
      "outputs": [
        {
          "output_type": "execute_result",
          "data": {
            "text/plain": [
              "(tensor([[1., 2., 3., 4., 5., 6., 7., 8., 9.]]), torch.Size([1, 9]))"
            ]
          },
          "metadata": {},
          "execution_count": 229
        }
      ]
    },
    {
      "cell_type": "code",
      "source": [
        "# Changing z changes y (because a view of a tensor shares the same memory as the  original input)\n",
        "z[:,0]  = 5\n",
        "z,y"
      ],
      "metadata": {
        "colab": {
          "base_uri": "https://localhost:8080/"
        },
        "id": "PlVwvjGKqvrt",
        "outputId": "415e40d4-8292-48b6-de36-2557540d8418"
      },
      "execution_count": null,
      "outputs": [
        {
          "output_type": "execute_result",
          "data": {
            "text/plain": [
              "(tensor([[5., 2., 3., 4., 5., 6., 7., 8., 9.]]),\n",
              " tensor([5., 2., 3., 4., 5., 6., 7., 8., 9.]))"
            ]
          },
          "metadata": {},
          "execution_count": 230
        }
      ]
    },
    {
      "cell_type": "code",
      "source": [
        "# Stack tensors on top of each other\n",
        "y_stacked = torch.stack([y,y,y,y],dim=0)\n",
        "y_stacked"
      ],
      "metadata": {
        "colab": {
          "base_uri": "https://localhost:8080/"
        },
        "id": "hT90KdndrmTx",
        "outputId": "03accab4-0391-49ee-f484-285589144b5b"
      },
      "execution_count": null,
      "outputs": [
        {
          "output_type": "execute_result",
          "data": {
            "text/plain": [
              "tensor([[5., 2., 3., 4., 5., 6., 7., 8., 9.],\n",
              "        [5., 2., 3., 4., 5., 6., 7., 8., 9.],\n",
              "        [5., 2., 3., 4., 5., 6., 7., 8., 9.],\n",
              "        [5., 2., 3., 4., 5., 6., 7., 8., 9.]])"
            ]
          },
          "metadata": {},
          "execution_count": 231
        }
      ]
    },
    {
      "cell_type": "code",
      "source": [
        "# torch.squeeze() - Removes all single dimensions from a target tensor\n",
        "# Returns a tensor with all specified dimensions of input of size 1 removed.\n",
        "y_reshaped"
      ],
      "metadata": {
        "colab": {
          "base_uri": "https://localhost:8080/"
        },
        "id": "XgdrLbWZsao_",
        "outputId": "1dbd7044-b72c-4fb5-b65f-2c5d919a9c1b"
      },
      "execution_count": null,
      "outputs": [
        {
          "output_type": "execute_result",
          "data": {
            "text/plain": [
              "tensor([[5.],\n",
              "        [2.],\n",
              "        [3.],\n",
              "        [4.],\n",
              "        [5.],\n",
              "        [6.],\n",
              "        [7.],\n",
              "        [8.],\n",
              "        [9.]])"
            ]
          },
          "metadata": {},
          "execution_count": 232
        }
      ]
    },
    {
      "cell_type": "code",
      "source": [
        "y_reshaped.shape"
      ],
      "metadata": {
        "colab": {
          "base_uri": "https://localhost:8080/"
        },
        "id": "CmYH0ewVtr8g",
        "outputId": "5d98c90f-4de8-4507-b4e7-83b7c23cfaf6"
      },
      "execution_count": null,
      "outputs": [
        {
          "output_type": "execute_result",
          "data": {
            "text/plain": [
              "torch.Size([9, 1])"
            ]
          },
          "metadata": {},
          "execution_count": 233
        }
      ]
    },
    {
      "cell_type": "code",
      "source": [
        "y_reshaped.squeeze()"
      ],
      "metadata": {
        "colab": {
          "base_uri": "https://localhost:8080/"
        },
        "id": "kDkXX8oGuGsN",
        "outputId": "9b579d48-5f65-47c9-9168-523a618c9022"
      },
      "execution_count": null,
      "outputs": [
        {
          "output_type": "execute_result",
          "data": {
            "text/plain": [
              "tensor([5., 2., 3., 4., 5., 6., 7., 8., 9.])"
            ]
          },
          "metadata": {},
          "execution_count": 234
        }
      ]
    },
    {
      "cell_type": "code",
      "source": [
        "y_reshaped.squeeze().shape"
      ],
      "metadata": {
        "colab": {
          "base_uri": "https://localhost:8080/"
        },
        "id": "piwMAGuMudNr",
        "outputId": "5cc938ab-1614-4d1a-d5f9-b16b299f89b9"
      },
      "execution_count": null,
      "outputs": [
        {
          "output_type": "execute_result",
          "data": {
            "text/plain": [
              "torch.Size([9])"
            ]
          },
          "metadata": {},
          "execution_count": 235
        }
      ]
    },
    {
      "cell_type": "code",
      "source": [
        "y_squeezed = torch.squeeze(y_reshaped)\n",
        "y_squeezed ,y_squeezed .shape"
      ],
      "metadata": {
        "colab": {
          "base_uri": "https://localhost:8080/"
        },
        "id": "BgeijZh6uMVS",
        "outputId": "f9af7262-8d3b-48c5-db8f-f8b7ca463976"
      },
      "execution_count": null,
      "outputs": [
        {
          "output_type": "execute_result",
          "data": {
            "text/plain": [
              "(tensor([5., 2., 3., 4., 5., 6., 7., 8., 9.]), torch.Size([9]))"
            ]
          },
          "metadata": {},
          "execution_count": 236
        }
      ]
    },
    {
      "cell_type": "code",
      "source": [
        "# torch.unsqueeze() - Adds a single dimension to a target tensor at a specific dim(dimension)\n",
        "# Returns a new tensor with a dimension of size one inserted at the specified position\n",
        "# The returned tensor shares the same underlying data with this tensor\n",
        "y_squeezed"
      ],
      "metadata": {
        "colab": {
          "base_uri": "https://localhost:8080/"
        },
        "id": "zFmdHi6ounQp",
        "outputId": "584bb1dd-b4f3-4920-e403-c1b164dd045f"
      },
      "execution_count": null,
      "outputs": [
        {
          "output_type": "execute_result",
          "data": {
            "text/plain": [
              "tensor([5., 2., 3., 4., 5., 6., 7., 8., 9.])"
            ]
          },
          "metadata": {},
          "execution_count": 237
        }
      ]
    },
    {
      "cell_type": "code",
      "source": [
        "y_squeezed.shape"
      ],
      "metadata": {
        "colab": {
          "base_uri": "https://localhost:8080/"
        },
        "id": "nKjO2amMxRAP",
        "outputId": "c4e29d59-ac44-47ae-eacd-aeebf8ad960f"
      },
      "execution_count": null,
      "outputs": [
        {
          "output_type": "execute_result",
          "data": {
            "text/plain": [
              "torch.Size([9])"
            ]
          },
          "metadata": {},
          "execution_count": 238
        }
      ]
    },
    {
      "cell_type": "code",
      "source": [
        "y_unsqueezed = torch.unsqueeze(y_squeezed, dim=0 )"
      ],
      "metadata": {
        "id": "CnK-AyIbxSdQ"
      },
      "execution_count": null,
      "outputs": []
    },
    {
      "cell_type": "code",
      "source": [
        "y_unsqueezed"
      ],
      "metadata": {
        "colab": {
          "base_uri": "https://localhost:8080/"
        },
        "id": "hwBRyD_MxmmS",
        "outputId": "4b0ca69e-5a01-468a-ba52-a67baf753c91"
      },
      "execution_count": null,
      "outputs": [
        {
          "output_type": "execute_result",
          "data": {
            "text/plain": [
              "tensor([[5., 2., 3., 4., 5., 6., 7., 8., 9.]])"
            ]
          },
          "metadata": {},
          "execution_count": 240
        }
      ]
    },
    {
      "cell_type": "code",
      "source": [
        "y_unsqueezed.shape"
      ],
      "metadata": {
        "colab": {
          "base_uri": "https://localhost:8080/"
        },
        "id": "4is1uJ_jxhQT",
        "outputId": "a7f8e69f-61ad-4311-bcfa-b1163b083c7f"
      },
      "execution_count": null,
      "outputs": [
        {
          "output_type": "execute_result",
          "data": {
            "text/plain": [
              "torch.Size([1, 9])"
            ]
          },
          "metadata": {},
          "execution_count": 241
        }
      ]
    },
    {
      "cell_type": "code",
      "source": [
        "y_unsqueezed = torch.unsqueeze(y_squeezed, dim=1 )"
      ],
      "metadata": {
        "id": "T1bQfpd7xqVq"
      },
      "execution_count": null,
      "outputs": []
    },
    {
      "cell_type": "code",
      "source": [
        "y_unsqueezed"
      ],
      "metadata": {
        "colab": {
          "base_uri": "https://localhost:8080/"
        },
        "id": "-ODpJcJkxz1D",
        "outputId": "eeb30669-12f7-487b-e57b-2f6e70550d63"
      },
      "execution_count": null,
      "outputs": [
        {
          "output_type": "execute_result",
          "data": {
            "text/plain": [
              "tensor([[5.],\n",
              "        [2.],\n",
              "        [3.],\n",
              "        [4.],\n",
              "        [5.],\n",
              "        [6.],\n",
              "        [7.],\n",
              "        [8.],\n",
              "        [9.]])"
            ]
          },
          "metadata": {},
          "execution_count": 243
        }
      ]
    },
    {
      "cell_type": "code",
      "source": [
        "y_unsqueezed.shape"
      ],
      "metadata": {
        "colab": {
          "base_uri": "https://localhost:8080/"
        },
        "id": "QGIIc2XXxzt7",
        "outputId": "3b2ed047-1f84-4481-8760-06a349117afe"
      },
      "execution_count": null,
      "outputs": [
        {
          "output_type": "execute_result",
          "data": {
            "text/plain": [
              "torch.Size([9, 1])"
            ]
          },
          "metadata": {},
          "execution_count": 244
        }
      ]
    },
    {
      "cell_type": "code",
      "source": [
        "# torch.permute  - rearrange the dimesions of a target tensor in a specified order\n",
        "# Returns a view of the original tensor input with its dimensions permuted."
      ],
      "metadata": {
        "id": "RsgY_O9iymhv"
      },
      "execution_count": null,
      "outputs": []
    },
    {
      "cell_type": "code",
      "source": [
        "w = torch.randn(2, 3, 5)\n",
        "w"
      ],
      "metadata": {
        "colab": {
          "base_uri": "https://localhost:8080/"
        },
        "id": "GU7V0wSSzRXX",
        "outputId": "11ddd61e-e217-4816-c57f-7a1ce04d961e"
      },
      "execution_count": null,
      "outputs": [
        {
          "output_type": "execute_result",
          "data": {
            "text/plain": [
              "tensor([[[-0.5311,  0.8267,  1.5229, -0.9877,  1.2192],\n",
              "         [-0.7914, -1.7528, -0.7504, -0.0807, -0.3624],\n",
              "         [ 0.0029,  0.1244, -1.4606, -1.4355, -0.0209]],\n",
              "\n",
              "        [[ 0.6316, -0.4313,  0.7325,  0.6687, -0.4787],\n",
              "         [ 1.0273, -0.1911, -1.2233,  0.4901, -1.3939],\n",
              "         [ 0.3651, -0.7425, -1.4558, -1.4579, -0.6620]]])"
            ]
          },
          "metadata": {},
          "execution_count": 246
        }
      ]
    },
    {
      "cell_type": "code",
      "source": [
        "w.size()"
      ],
      "metadata": {
        "colab": {
          "base_uri": "https://localhost:8080/"
        },
        "id": "hfM87Q0SzX-2",
        "outputId": "6df2c7ac-bc65-4272-c296-e21b31dcc734"
      },
      "execution_count": null,
      "outputs": [
        {
          "output_type": "execute_result",
          "data": {
            "text/plain": [
              "torch.Size([2, 3, 5])"
            ]
          },
          "metadata": {},
          "execution_count": 251
        }
      ]
    },
    {
      "cell_type": "code",
      "source": [
        "w.ndim"
      ],
      "metadata": {
        "colab": {
          "base_uri": "https://localhost:8080/"
        },
        "id": "u1N1CsbEzhDe",
        "outputId": "88bf75e8-31ef-49dc-acb1-808e191b0ec6"
      },
      "execution_count": null,
      "outputs": [
        {
          "output_type": "execute_result",
          "data": {
            "text/plain": [
              "3"
            ]
          },
          "metadata": {},
          "execution_count": 252
        }
      ]
    },
    {
      "cell_type": "code",
      "source": [
        "torch.permute(w, (2, 0, 1)).size()"
      ],
      "metadata": {
        "colab": {
          "base_uri": "https://localhost:8080/"
        },
        "id": "ft_-qz6rzRU-",
        "outputId": "9a3e6719-0983-4ebe-e5f4-73f1390b30b9"
      },
      "execution_count": null,
      "outputs": [
        {
          "output_type": "execute_result",
          "data": {
            "text/plain": [
              "torch.Size([5, 2, 3])"
            ]
          },
          "metadata": {},
          "execution_count": 253
        }
      ]
    },
    {
      "cell_type": "markdown",
      "source": [
        "###**Indexing (selecting data from tensors)**"
      ],
      "metadata": {
        "id": "OvRJxvDC1YXx"
      }
    },
    {
      "cell_type": "code",
      "source": [
        "v = torch.arange(0,20).reshape(5,2,2)\n",
        "v , v.shape"
      ],
      "metadata": {
        "colab": {
          "base_uri": "https://localhost:8080/"
        },
        "id": "Fuy8Fgs4zQqm",
        "outputId": "48831214-c4a4-4883-872b-140f2496d4ea"
      },
      "execution_count": null,
      "outputs": [
        {
          "output_type": "execute_result",
          "data": {
            "text/plain": [
              "(tensor([[[ 0,  1],\n",
              "          [ 2,  3]],\n",
              " \n",
              "         [[ 4,  5],\n",
              "          [ 6,  7]],\n",
              " \n",
              "         [[ 8,  9],\n",
              "          [10, 11]],\n",
              " \n",
              "         [[12, 13],\n",
              "          [14, 15]],\n",
              " \n",
              "         [[16, 17],\n",
              "          [18, 19]]]),\n",
              " torch.Size([5, 2, 2]))"
            ]
          },
          "metadata": {},
          "execution_count": 281
        }
      ]
    },
    {
      "cell_type": "code",
      "source": [
        "# let's index on our new tensor\n",
        "v[0]"
      ],
      "metadata": {
        "colab": {
          "base_uri": "https://localhost:8080/"
        },
        "id": "xC8mFxk9zQmX",
        "outputId": "a8b27b0c-c038-4d44-e2d6-9eb722f33ceb"
      },
      "execution_count": null,
      "outputs": [
        {
          "output_type": "execute_result",
          "data": {
            "text/plain": [
              "tensor([[0, 1],\n",
              "        [2, 3]])"
            ]
          },
          "metadata": {},
          "execution_count": 282
        }
      ]
    },
    {
      "cell_type": "code",
      "source": [
        "v[2]"
      ],
      "metadata": {
        "colab": {
          "base_uri": "https://localhost:8080/"
        },
        "id": "o8CC-wHozQcW",
        "outputId": "9477df47-7340-40c4-bff7-ec8bcf178d4a"
      },
      "execution_count": null,
      "outputs": [
        {
          "output_type": "execute_result",
          "data": {
            "text/plain": [
              "tensor([[ 8,  9],\n",
              "        [10, 11]])"
            ]
          },
          "metadata": {},
          "execution_count": 283
        }
      ]
    },
    {
      "cell_type": "code",
      "source": [
        "u = torch.arange(1,10).reshape(1,3,3)\n",
        "u , u.shape"
      ],
      "metadata": {
        "colab": {
          "base_uri": "https://localhost:8080/"
        },
        "id": "WIvB-F4RzrMZ",
        "outputId": "de8c8190-2b04-48e1-fc1a-fc3f78534b61"
      },
      "execution_count": null,
      "outputs": [
        {
          "output_type": "execute_result",
          "data": {
            "text/plain": [
              "(tensor([[[1, 2, 3],\n",
              "          [4, 5, 6],\n",
              "          [7, 8, 9]]]),\n",
              " torch.Size([1, 3, 3]))"
            ]
          },
          "metadata": {},
          "execution_count": 284
        }
      ]
    },
    {
      "cell_type": "code",
      "source": [
        "u[0]"
      ],
      "metadata": {
        "colab": {
          "base_uri": "https://localhost:8080/"
        },
        "id": "-YJ5_LPNDhUY",
        "outputId": "fb8ac6f9-7f92-48a5-a429-55f2129087cd"
      },
      "execution_count": null,
      "outputs": [
        {
          "output_type": "execute_result",
          "data": {
            "text/plain": [
              "tensor([[1, 2, 3],\n",
              "        [4, 5, 6],\n",
              "        [7, 8, 9]])"
            ]
          },
          "metadata": {},
          "execution_count": 285
        }
      ]
    },
    {
      "cell_type": "code",
      "source": [
        "u[0][:][1]"
      ],
      "metadata": {
        "colab": {
          "base_uri": "https://localhost:8080/"
        },
        "id": "gu5MrWY9GN2y",
        "outputId": "e00b7c89-f3d9-46dc-fb42-cb02106f519c"
      },
      "execution_count": null,
      "outputs": [
        {
          "output_type": "execute_result",
          "data": {
            "text/plain": [
              "tensor([4, 5, 6])"
            ]
          },
          "metadata": {},
          "execution_count": 304
        }
      ]
    },
    {
      "cell_type": "code",
      "source": [
        "u[0][0][2]"
      ],
      "metadata": {
        "colab": {
          "base_uri": "https://localhost:8080/"
        },
        "id": "PgVkCRKvDk6d",
        "outputId": "220f1489-7e6e-4025-f282-300b9b0ba2d7"
      },
      "execution_count": null,
      "outputs": [
        {
          "output_type": "execute_result",
          "data": {
            "text/plain": [
              "tensor(3)"
            ]
          },
          "metadata": {},
          "execution_count": 295
        }
      ]
    },
    {
      "cell_type": "code",
      "source": [
        "u[0][1][2]"
      ],
      "metadata": {
        "colab": {
          "base_uri": "https://localhost:8080/"
        },
        "id": "X_K5WODHDoH4",
        "outputId": "abdab9f7-efa9-49a2-d9e2-5d02d7cfeec2"
      },
      "execution_count": null,
      "outputs": [
        {
          "output_type": "execute_result",
          "data": {
            "text/plain": [
              "tensor(6)"
            ]
          },
          "metadata": {},
          "execution_count": 296
        }
      ]
    },
    {
      "cell_type": "code",
      "source": [
        "u[0][2][2]"
      ],
      "metadata": {
        "colab": {
          "base_uri": "https://localhost:8080/"
        },
        "id": "zhEonPmHELFC",
        "outputId": "49223f6f-adf8-41fa-8b67-ab10ebbd0a5e"
      },
      "execution_count": null,
      "outputs": [
        {
          "output_type": "execute_result",
          "data": {
            "text/plain": [
              "tensor(9)"
            ]
          },
          "metadata": {},
          "execution_count": 297
        }
      ]
    },
    {
      "cell_type": "code",
      "source": [
        "u[:,1,2]"
      ],
      "metadata": {
        "colab": {
          "base_uri": "https://localhost:8080/"
        },
        "id": "G5lEYBqKEUZz",
        "outputId": "a8e5216a-bc06-4ab6-e1f6-3968bf3b09b6"
      },
      "execution_count": null,
      "outputs": [
        {
          "output_type": "execute_result",
          "data": {
            "text/plain": [
              "tensor([6])"
            ]
          },
          "metadata": {},
          "execution_count": 298
        }
      ]
    },
    {
      "cell_type": "code",
      "source": [
        "u[:,:,0]"
      ],
      "metadata": {
        "colab": {
          "base_uri": "https://localhost:8080/"
        },
        "id": "gubZkzIrFUNc",
        "outputId": "cc870bee-7fd2-46ee-a2f4-9ac4d8f7fd48"
      },
      "execution_count": null,
      "outputs": [
        {
          "output_type": "execute_result",
          "data": {
            "text/plain": [
              "tensor([[1, 4, 7]])"
            ]
          },
          "metadata": {},
          "execution_count": 300
        }
      ]
    },
    {
      "cell_type": "code",
      "source": [
        "u[:,:,1]"
      ],
      "metadata": {
        "colab": {
          "base_uri": "https://localhost:8080/"
        },
        "id": "0BZMvuTCE89a",
        "outputId": "3bc63d51-a3ab-4e02-c7ee-e6a96238be7a"
      },
      "execution_count": null,
      "outputs": [
        {
          "output_type": "execute_result",
          "data": {
            "text/plain": [
              "tensor([[2, 5, 8]])"
            ]
          },
          "metadata": {},
          "execution_count": 293
        }
      ]
    },
    {
      "cell_type": "code",
      "source": [
        "u[:,:,2]"
      ],
      "metadata": {
        "colab": {
          "base_uri": "https://localhost:8080/"
        },
        "id": "FbYglTv6GGcT",
        "outputId": "55ce5d63-9e5e-416f-9b30-f4e78a400251"
      },
      "execution_count": null,
      "outputs": [
        {
          "output_type": "execute_result",
          "data": {
            "text/plain": [
              "tensor([[3, 6, 9]])"
            ]
          },
          "metadata": {},
          "execution_count": 301
        }
      ]
    },
    {
      "cell_type": "markdown",
      "source": [
        "###**PyTorch tensors & Numpy**\n",
        "Numpy is a popular scientific Python numerical computing library\n",
        "\n",
        "And beacause of this, PyTorch has functionality to interact with it\n",
        "\n",
        "* Data in Numpy, want in PyTorch tensor -> ` torch.from_numpy(ndarray)`\n",
        "* PyTorch tensor -> Numpy -> ` torch.Tensor.numpy()`"
      ],
      "metadata": {
        "id": "6lf8DTetHLNA"
      }
    },
    {
      "cell_type": "code",
      "source": [
        "# Numpy array to tensor\n",
        "import numpy as np\n",
        "array = np.arange(1.0 , 8.0)\n",
        "tensor_c = torch.from_numpy(array) # Note : When converitng from numpy -> pytorch , pytorch reflects numpy's default datatype of float64 unless specified otherwise\n",
        "array , tensor_c"
      ],
      "metadata": {
        "colab": {
          "base_uri": "https://localhost:8080/"
        },
        "id": "9IAvuOcMGLbL",
        "outputId": "7d22e376-2b20-4065-c9b8-4506defa581d"
      },
      "execution_count": null,
      "outputs": [
        {
          "output_type": "execute_result",
          "data": {
            "text/plain": [
              "(array([1., 2., 3., 4., 5., 6., 7.]),\n",
              " tensor([1., 2., 3., 4., 5., 6., 7.], dtype=torch.float64))"
            ]
          },
          "metadata": {},
          "execution_count": 2
        }
      ]
    },
    {
      "cell_type": "code",
      "source": [
        "array.dtype"
      ],
      "metadata": {
        "colab": {
          "base_uri": "https://localhost:8080/"
        },
        "id": "JR-_OdkLI-WC",
        "outputId": "7f28b12b-7c5b-47dc-975e-e0d30cd6a1d4"
      },
      "execution_count": null,
      "outputs": [
        {
          "output_type": "execute_result",
          "data": {
            "text/plain": [
              "dtype('float64')"
            ]
          },
          "metadata": {},
          "execution_count": 3
        }
      ]
    },
    {
      "cell_type": "code",
      "source": [
        "#change the value of the array, what will this do to `tensor` ?\n",
        "array =  array+1\n",
        "array, tensor_c #tensor doesn't change"
      ],
      "metadata": {
        "colab": {
          "base_uri": "https://localhost:8080/"
        },
        "id": "AYqFqK2CgDOb",
        "outputId": "e2fca1ab-0a86-4bc5-ce4e-00541e6b4848"
      },
      "execution_count": null,
      "outputs": [
        {
          "output_type": "execute_result",
          "data": {
            "text/plain": [
              "(array([ 4.,  5.,  6.,  7.,  8.,  9., 10.]),\n",
              " tensor([1., 2., 3., 4., 5., 6., 7.], dtype=torch.float64))"
            ]
          },
          "metadata": {},
          "execution_count": 7
        }
      ]
    },
    {
      "cell_type": "code",
      "source": [
        "# Tensor to Numpy array\n",
        "tensor_d = torch.ones(7)\n",
        "numpy_tensor_d = tensor_d.numpy()\n",
        "tensor_d, numpy_tensor_d"
      ],
      "metadata": {
        "colab": {
          "base_uri": "https://localhost:8080/"
        },
        "id": "bU1gz3Xegx8v",
        "outputId": "6123df4e-0690-4c99-e8af-5554c2c5aaa7"
      },
      "execution_count": null,
      "outputs": [
        {
          "output_type": "execute_result",
          "data": {
            "text/plain": [
              "(tensor([1., 1., 1., 1., 1., 1., 1.]),\n",
              " array([1., 1., 1., 1., 1., 1., 1.], dtype=float32))"
            ]
          },
          "metadata": {},
          "execution_count": 11
        }
      ]
    },
    {
      "cell_type": "code",
      "source": [
        "#change the tensor, what happens to `numpy_tensor`?\n",
        "tensor_d = tensor_d + 1\n",
        "tensor_d, numpy_tensor_d\n"
      ],
      "metadata": {
        "id": "CsLcQMcGgfgo",
        "colab": {
          "base_uri": "https://localhost:8080/"
        },
        "outputId": "37ff1ac1-8aa3-4be2-f98c-c8dba2f784ba"
      },
      "execution_count": null,
      "outputs": [
        {
          "output_type": "execute_result",
          "data": {
            "text/plain": [
              "(tensor([3., 3., 3., 3., 3., 3., 3.]),\n",
              " array([1., 1., 1., 1., 1., 1., 1.], dtype=float32))"
            ]
          },
          "metadata": {},
          "execution_count": 13
        }
      ]
    },
    {
      "cell_type": "markdown",
      "source": [
        "###**Reproducibility (trying to take random out of random)**\n",
        "`start with random numbers -> tensor operations -> update random numbers to try and make them better representations of the data -> again -> again ->...`\n",
        "\n",
        "To reduce the randomness in neural networks and PyTorch comes the concept of a **random seed**\n",
        "\n",
        "Essentially what the random seed does  is \"flavour\" the randomness."
      ],
      "metadata": {
        "id": "gQs8A2Reivux"
      }
    },
    {
      "cell_type": "code",
      "source": [
        "# create a two random tensors\n",
        "random_tensor_a = torch.rand(3,4)\n",
        "random_tensor_b = torch.rand(3,4)\n",
        "\n",
        "print(random_tensor_a)\n",
        "print(random_tensor_b)\n",
        "print(random_tensor_a==random_tensor_b)"
      ],
      "metadata": {
        "colab": {
          "base_uri": "https://localhost:8080/"
        },
        "id": "i2D8Dn-Xid8-",
        "outputId": "911c8565-08fb-4fa9-c4a5-f0bb49266380"
      },
      "execution_count": null,
      "outputs": [
        {
          "output_type": "stream",
          "name": "stdout",
          "text": [
            "tensor([[0.2310, 0.3483, 0.4624, 0.7443],\n",
            "        [0.6265, 0.7078, 0.9912, 0.3374],\n",
            "        [0.7747, 0.9987, 0.6835, 0.3025]])\n",
            "tensor([[0.1583, 0.1583, 0.4835, 0.5015],\n",
            "        [0.4137, 0.3632, 0.9718, 0.0514],\n",
            "        [0.7503, 0.1923, 0.8665, 0.7525]])\n",
            "tensor([[False, False, False, False],\n",
            "        [False, False, False, False],\n",
            "        [False, False, False, False]])\n"
          ]
        }
      ]
    },
    {
      "cell_type": "code",
      "source": [
        "# let's make som random but reproducible tensors\n",
        "\n",
        "# Set the random seed\n",
        "\n",
        "#Random_SEED = 42\n",
        "\n",
        "torch.manual_seed(42)\n",
        "random_tensor_c = torch.rand(3,4)\n",
        "\n",
        "torch.manual_seed(42)\n",
        "random_tensor_d = torch.rand(3,4)\n",
        "\n",
        "print(random_tensor_c)\n",
        "print(random_tensor_d)\n",
        "print(random_tensor_c==random_tensor_d)"
      ],
      "metadata": {
        "colab": {
          "base_uri": "https://localhost:8080/"
        },
        "id": "te2LzzEern7h",
        "outputId": "4efe8fe4-67ad-4c7a-bc4e-dc82c0fe929e"
      },
      "execution_count": null,
      "outputs": [
        {
          "output_type": "stream",
          "name": "stdout",
          "text": [
            "tensor([[0.8823, 0.9150, 0.3829, 0.9593],\n",
            "        [0.3904, 0.6009, 0.2566, 0.7936],\n",
            "        [0.9408, 0.1332, 0.9346, 0.5936]])\n",
            "tensor([[0.8823, 0.9150, 0.3829, 0.9593],\n",
            "        [0.3904, 0.6009, 0.2566, 0.7936],\n",
            "        [0.9408, 0.1332, 0.9346, 0.5936]])\n",
            "tensor([[True, True, True, True],\n",
            "        [True, True, True, True],\n",
            "        [True, True, True, True]])\n"
          ]
        }
      ]
    },
    {
      "cell_type": "markdown",
      "source": [
        "###**Running tensors and PyTorch objects on the GPUs (and making faster computations)**\n",
        "\n",
        "GPUs = Faster computation on numbers"
      ],
      "metadata": {
        "id": "ZM-A6Z_WtrJH"
      }
    },
    {
      "cell_type": "code",
      "source": [
        "### Getting a GPU\n",
        "!nvidia-smi"
      ],
      "metadata": {
        "colab": {
          "base_uri": "https://localhost:8080/"
        },
        "id": "3dXzk14msTFI",
        "outputId": "5a9044c6-e3eb-4103-daeb-dfe2b5c6c3ef"
      },
      "execution_count": null,
      "outputs": [
        {
          "output_type": "stream",
          "name": "stdout",
          "text": [
            "Tue Sep 19 09:25:24 2023       \n",
            "+-----------------------------------------------------------------------------+\n",
            "| NVIDIA-SMI 525.105.17   Driver Version: 525.105.17   CUDA Version: 12.0     |\n",
            "|-------------------------------+----------------------+----------------------+\n",
            "| GPU  Name        Persistence-M| Bus-Id        Disp.A | Volatile Uncorr. ECC |\n",
            "| Fan  Temp  Perf  Pwr:Usage/Cap|         Memory-Usage | GPU-Util  Compute M. |\n",
            "|                               |                      |               MIG M. |\n",
            "|===============================+======================+======================|\n",
            "|   0  Tesla T4            Off  | 00000000:00:04.0 Off |                    0 |\n",
            "| N/A   45C    P8     9W /  70W |      0MiB / 15360MiB |      0%      Default |\n",
            "|                               |                      |                  N/A |\n",
            "+-------------------------------+----------------------+----------------------+\n",
            "                                                                               \n",
            "+-----------------------------------------------------------------------------+\n",
            "| Processes:                                                                  |\n",
            "|  GPU   GI   CI        PID   Type   Process name                  GPU Memory |\n",
            "|        ID   ID                                                   Usage      |\n",
            "|=============================================================================|\n",
            "|  No running processes found                                                 |\n",
            "+-----------------------------------------------------------------------------+\n"
          ]
        }
      ]
    },
    {
      "cell_type": "code",
      "source": [
        "# Check for GPu access with PyTorch\n",
        "torch.cuda.is_available()"
      ],
      "metadata": {
        "colab": {
          "base_uri": "https://localhost:8080/"
        },
        "id": "k6QcxKx0wjL-",
        "outputId": "038b7216-82d2-4c54-f246-236880951c3f"
      },
      "execution_count": null,
      "outputs": [
        {
          "output_type": "execute_result",
          "data": {
            "text/plain": [
              "True"
            ]
          },
          "metadata": {},
          "execution_count": 4
        }
      ]
    },
    {
      "cell_type": "code",
      "source": [
        "# Setup device agnostic code\n",
        "device = \"cuda\" if torch.cuda.is_available () else \"cpu\"\n",
        "device"
      ],
      "metadata": {
        "colab": {
          "base_uri": "https://localhost:8080/",
          "height": 36
        },
        "id": "myi5Kek3w4Yz",
        "outputId": "ac683e7a-8523-4842-ea3d-bbe1bdfe8981"
      },
      "execution_count": null,
      "outputs": [
        {
          "output_type": "execute_result",
          "data": {
            "text/plain": [
              "'cuda'"
            ],
            "application/vnd.google.colaboratory.intrinsic+json": {
              "type": "string"
            }
          },
          "metadata": {},
          "execution_count": 5
        }
      ]
    },
    {
      "cell_type": "code",
      "source": [
        "# Count number of devices\n",
        "torch.cuda.device_count()"
      ],
      "metadata": {
        "colab": {
          "base_uri": "https://localhost:8080/"
        },
        "id": "aAG8maRMxHfV",
        "outputId": "6bf48496-65a0-492d-b03b-58b1c239ffa8"
      },
      "execution_count": null,
      "outputs": [
        {
          "output_type": "execute_result",
          "data": {
            "text/plain": [
              "1"
            ]
          },
          "metadata": {},
          "execution_count": 6
        }
      ]
    },
    {
      "cell_type": "code",
      "source": [],
      "metadata": {
        "id": "lDWNumrYxW4n"
      },
      "execution_count": null,
      "outputs": []
    },
    {
      "cell_type": "markdown",
      "source": [],
      "metadata": {
        "id": "BIgHPP9WTzJ9"
      }
    }
  ]
}